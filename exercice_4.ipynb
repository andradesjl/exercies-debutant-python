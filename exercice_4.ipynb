{
 "cells": [
  {
   "cell_type": "markdown",
   "id": "06195e20",
   "metadata": {},
   "source": [
    "## **Exercice 4**\n",
    "\n",
    "Écrivez une fonction qui s'appelle analyse_texte qui prend une chaîne de caractères en entrée et retourne un dictionnaire contenant le nombre de mots, le nombre de caractères et le nombre de voyelles (a, e, i, o, u) dans la chaîne. Ensuite, écrivez un script qui demande à l'utilisateur de saisir une phrase, appelle la fonction analyse_texte et affiche les résultats."
   ]
  },
  {
   "cell_type": "markdown",
   "id": "687b3164",
   "metadata": {},
   "source": [
    "### Tâches\n",
    "\n",
    "1. Une fonction analyse_texte qui retourne un dictionnaire contenant le nombre de mots, le nombre de caractères et le nombre de voyelles (a, e, i, o, u) dans la chaîne passée en paramètre.\n",
    "2. Un script qui demande à l'utilisateur de saisir une phrase, appelle la fonction analyse_texte et affiche les résultats."
   ]
  },
  {
   "cell_type": "markdown",
   "id": "b416e34c",
   "metadata": {},
   "source": [
    "### Résolution"
   ]
  },
  {
   "cell_type": "markdown",
   "id": "902686b5",
   "metadata": {},
   "source": [
    "1. Une fonction analyse_texte qui retourne un dictionnaire contenant le nombre de mots, le nombre de caractères et le nombre de voyelles (a, e, i, o, u) dans la chaîne passée en paramètre."
   ]
  },
  {
   "cell_type": "code",
   "execution_count": 2,
   "id": "779b7b24",
   "metadata": {},
   "outputs": [],
   "source": [
    "def analyse_texte(texte: str) -> dict:\n",
    "    texte = texte.strip()\n",
    "    nombre_de_mots = texte.split()\n",
    "    nombre_de_caracteres = len(texte)\n",
    "\n",
    "    nombre_de_voyelle_a = texte.count('a')\n",
    "    nombre_de_voyelle_e = texte.count('e')\n",
    "    nombre_de_voyelle_i = texte.count('i')\n",
    "    nombre_de_voyelle_o = texte.count('o')\n",
    "    nombre_de_voyelle_u = texte.count('u')\n",
    "\n",
    "    return {\n",
    "        'Nombre de mots': nombre_de_mots,\n",
    "        'Nombre de caractères': nombre_de_caracteres,\n",
    "        'Nombre de voyelles': {\n",
    "            'a': nombre_de_voyelle_a,\n",
    "            'e': nombre_de_voyelle_e,\n",
    "            'i': nombre_de_voyelle_i,\n",
    "            'o': nombre_de_voyelle_o,\n",
    "            'u': nombre_de_voyelle_u,\n",
    "        }\n",
    "    }\n"
   ]
  },
  {
   "cell_type": "markdown",
   "id": "519444d2",
   "metadata": {},
   "source": [
    "2. Un script qui demande à l'utilisateur de saisir une phrase, appelle la fonction analyse_texte et affiche les résultats."
   ]
  },
  {
   "cell_type": "code",
   "execution_count": 3,
   "id": "c7dfeb59",
   "metadata": {},
   "outputs": [
    {
     "name": "stdout",
     "output_type": "stream",
     "text": [
      "Nombre de mots\t[\"J'aimerai\", 'pouvoir', 'vister', 'Paris', 'un', 'jour']\n",
      "Nombre de caractères\t38\n",
      "Nombre de voyelles\t{'a': 3, 'e': 2, 'i': 5, 'o': 3, 'u': 3}\n"
     ]
    }
   ],
   "source": [
    "texte = str(input('Saisir un texte: '))\n",
    "\n",
    "analysee = analyse_texte(texte=texte)\n",
    "\n",
    "for key, value in analysee.items():\n",
    "    print(f\"{key}\\t{value}\")"
   ]
  }
 ],
 "metadata": {
  "kernelspec": {
   "display_name": "venv",
   "language": "python",
   "name": "python3"
  },
  "language_info": {
   "codemirror_mode": {
    "name": "ipython",
    "version": 3
   },
   "file_extension": ".py",
   "mimetype": "text/x-python",
   "name": "python",
   "nbconvert_exporter": "python",
   "pygments_lexer": "ipython3",
   "version": "3.12.1"
  }
 },
 "nbformat": 4,
 "nbformat_minor": 5
}
