{
 "cells": [
  {
   "cell_type": "markdown",
   "id": "4f826807",
   "metadata": {},
   "source": [
    "## **Exercice 1**\n",
    "\n",
    "Créez un script Python qui demande à l'utilisateur de saisir deux nombres. Le script doit ensuite afficher la somme, la différence, le produit et le quotient de ces deux nombres."
   ]
  },
  {
   "cell_type": "markdown",
   "id": "e0355871",
   "metadata": {},
   "source": [
    "* Récuperation des deux nombres"
   ]
  },
  {
   "cell_type": "code",
   "execution_count": 1,
   "id": "027bf993",
   "metadata": {},
   "outputs": [],
   "source": [
    "nombre_1 = int(input(\"Saisir un nombre (a): \"))\n",
    "nombre_2 = int(input(\"Saisir un nombre (b): \"))"
   ]
  },
  {
   "cell_type": "markdown",
   "id": "ac4a5e53",
   "metadata": {},
   "source": [
    "* Calculs"
   ]
  },
  {
   "cell_type": "code",
   "execution_count": null,
   "id": "e632e043",
   "metadata": {},
   "outputs": [],
   "source": [
    "somme = nombre_1 + nombre_2         # La somme\n",
    "difference = nombre_1 - nombre_2    # La différence\n",
    "produit = nombre_1 * nombre_2       # Le produit\n",
    "quotient = nombre_1 / nombre_2      # Lee quotient"
   ]
  },
  {
   "cell_type": "markdown",
   "id": "867beebb",
   "metadata": {},
   "source": [
    "* Affichage de la somme, la différence, le produit et le quotient"
   ]
  },
  {
   "cell_type": "code",
   "execution_count": 3,
   "id": "ac9d310d",
   "metadata": {},
   "outputs": [
    {
     "name": "stdout",
     "output_type": "stream",
     "text": [
      "La somme est 13\n",
      "La différence est -3\n",
      "Le produit est 40\n",
      "Le quotient est 0.625\n"
     ]
    }
   ],
   "source": [
    "print('La somme est', somme)\n",
    "print('La différence est', difference)\n",
    "print('Le produit est', produit)\n",
    "print('Le quotient est', quotient)"
   ]
  }
 ],
 "metadata": {
  "kernelspec": {
   "display_name": "venv",
   "language": "python",
   "name": "python3"
  },
  "language_info": {
   "codemirror_mode": {
    "name": "ipython",
    "version": 3
   },
   "file_extension": ".py",
   "mimetype": "text/x-python",
   "name": "python",
   "nbconvert_exporter": "python",
   "pygments_lexer": "ipython3",
   "version": "3.12.1"
  }
 },
 "nbformat": 4,
 "nbformat_minor": 5
}
