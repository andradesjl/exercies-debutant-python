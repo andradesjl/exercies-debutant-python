{
 "cells": [
  {
   "cell_type": "markdown",
   "id": "5b926b4f",
   "metadata": {},
   "source": [
    "## **Exercice 3**\n",
    "\n",
    "Créez une liste contenant les nombres de 1 à 20. Écrivez un script qui utilise une boucle for pour parcourir cette liste et afficher les nombres pairs. Ensuite, utilisez une boucle while pour faire la même chose."
   ]
  },
  {
   "cell_type": "markdown",
   "id": "578eefbb",
   "metadata": {},
   "source": [
    "### Tâches\n",
    "\n",
    "1. Créez une liste contenant les nombres de 1 à 20.\n",
    "2. Parcourir cette liste et afficher les nombres pairs avec :\n",
    "   - une boucle `for`.\n",
    "   - une boucle `while`."
   ]
  },
  {
   "cell_type": "markdown",
   "id": "579f56ff",
   "metadata": {},
   "source": [
    "1. Création de la liste contenant les nombres de 1 à 20"
   ]
  },
  {
   "cell_type": "code",
   "execution_count": 3,
   "id": "926a331a",
   "metadata": {},
   "outputs": [],
   "source": [
    "nombres1a20 = list(range(1, 21))        # renvoie [1, 2, ..., 20]"
   ]
  },
  {
   "cell_type": "markdown",
   "id": "788e6e17",
   "metadata": {},
   "source": [
    "2. Parcours et affichage des nombres pairs avec :"
   ]
  },
  {
   "cell_type": "markdown",
   "id": "5e46a95e",
   "metadata": {},
   "source": [
    "- une boucle `for`"
   ]
  },
  {
   "cell_type": "code",
   "execution_count": 8,
   "id": "6e4b0721",
   "metadata": {},
   "outputs": [
    {
     "name": "stdout",
     "output_type": "stream",
     "text": [
      "2 4 6 8 10 12 14 16 18 20 "
     ]
    }
   ],
   "source": [
    "for nombre in nombres1a20:\n",
    "    if not nombre % 2:\n",
    "        print(nombre, end=' ')"
   ]
  },
  {
   "cell_type": "markdown",
   "id": "8bcd168c",
   "metadata": {},
   "source": [
    "* une boucle `while`"
   ]
  },
  {
   "cell_type": "code",
   "execution_count": 7,
   "id": "edac8f05",
   "metadata": {},
   "outputs": [
    {
     "name": "stdout",
     "output_type": "stream",
     "text": [
      "2 4 6 8 10 12 14 16 18 20 "
     ]
    }
   ],
   "source": [
    "n = 0\n",
    "\n",
    "while n < len(nombres1a20):\n",
    "    nombre = nombres1a20[n]\n",
    "\n",
    "    if not nombre % 2:\n",
    "        print(nombre, end=' ')\n",
    "\n",
    "    n += 1\n"
   ]
  }
 ],
 "metadata": {
  "kernelspec": {
   "display_name": "venv",
   "language": "python",
   "name": "python3"
  },
  "language_info": {
   "codemirror_mode": {
    "name": "ipython",
    "version": 3
   },
   "file_extension": ".py",
   "mimetype": "text/x-python",
   "name": "python",
   "nbconvert_exporter": "python",
   "pygments_lexer": "ipython3",
   "version": "3.12.1"
  }
 },
 "nbformat": 4,
 "nbformat_minor": 5
}
