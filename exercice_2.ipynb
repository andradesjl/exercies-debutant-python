{
 "cells": [
  {
   "cell_type": "markdown",
   "id": "26f945d3",
   "metadata": {},
   "source": [
    "## **Exercice 2**\n",
    "\n",
    "Écrivez un programme qui demande à l'utilisateur de saisir cinq noms d'étudiants et leurs notes respectives. Utilisez un dictionnaire pour stocker les noms et les notes. Affichez ensuite le nom et la note de chaque étudiant."
   ]
  },
  {
   "cell_type": "markdown",
   "id": "e2684a91",
   "metadata": {},
   "source": [
    "1. Récupérer 5 noms d'étudiants et leurs notes respectives"
   ]
  },
  {
   "cell_type": "markdown",
   "id": "d15cae29",
   "metadata": {},
   "source": [
    "* Commençons par déclarer le dictionnaire vide qui sera utilisé pour stocker les informations (nom et note) des étudiants."
   ]
  },
  {
   "cell_type": "code",
   "execution_count": 3,
   "id": "2c135807",
   "metadata": {},
   "outputs": [],
   "source": [
    "dictionnaire = {}"
   ]
  },
  {
   "cell_type": "markdown",
   "id": "ac2c82a3",
   "metadata": {},
   "source": [
    "* Prenons ensuite les données des 5 étudiants et mettons-les dans le dictionnaire `dictionnaire`."
   ]
  },
  {
   "cell_type": "markdown",
   "id": "7bbd6cf6",
   "metadata": {},
   "source": [
    "Je dois m'assurer que les noms saisit par l'utilisateur ne sont pas vide.\n",
    "\n",
    "J'utilise la boucle 'while' pour permettre à l'utilisateur de resaisir au cas où la valeur saisie n'est pas valide."
   ]
  },
  {
   "cell_type": "code",
   "execution_count": 4,
   "id": "929d4491",
   "metadata": {},
   "outputs": [],
   "source": [
    "compteur = 0                                            # Un compteur pour compter le nombre d'étudiant saisit\n",
    "\n",
    "while True:\n",
    "    nom = str(input(f\"Nom de l'étudiant N°{compteur + 1}: \")).strip() # strip() permet de supprimer les espaces vide comme '   Doe   ' -> 'Doe'\n",
    "    \n",
    "    if not nom:\n",
    "        continue                                        # Si le nom est vide, continue\n",
    "\n",
    "    note = float(input(f\"Note de {nom} : \"))\n",
    "\n",
    "    if not 0 <= note <= 20:\n",
    "        continue                                        # Continue si la note est vide ou si le note n'est pas comprise entre 0 et 20.\n",
    "\n",
    "    # A ce niveau on vient de récuperer le nom et la note tous valides de l'étudaint N°compteur\n",
    "    # On ajoute ensuite le nom et note de l'étudiant dans le dictionnaire.\n",
    "\n",
    "    dictionnaire[nom] = note\n",
    "\n",
    "    compteur += 1\n",
    "\n",
    "    if compteur == 5:\n",
    "        break\n",
    "\n",
    "    "
   ]
  },
  {
   "cell_type": "markdown",
   "id": "260f74d3",
   "metadata": {},
   "source": [
    "2. Affichons ensuite le nom et la note de chaque étudiant."
   ]
  },
  {
   "cell_type": "code",
   "execution_count": 6,
   "id": "bde28c14",
   "metadata": {},
   "outputs": [
    {
     "name": "stdout",
     "output_type": "stream",
     "text": [
      "ELIE\t12.0\n",
      "KILO\t1.0\n",
      "DOE\t20.0\n",
      "EVA\t14.0\n",
      "PAUL\t12.0\n"
     ]
    }
   ],
   "source": [
    "for key, value in dictionnaire.items():\n",
    "    print(f'{key}\\t{value}')"
   ]
  }
 ],
 "metadata": {
  "kernelspec": {
   "display_name": "venv",
   "language": "python",
   "name": "python3"
  },
  "language_info": {
   "codemirror_mode": {
    "name": "ipython",
    "version": 3
   },
   "file_extension": ".py",
   "mimetype": "text/x-python",
   "name": "python",
   "nbconvert_exporter": "python",
   "pygments_lexer": "ipython3",
   "version": "3.12.1"
  }
 },
 "nbformat": 4,
 "nbformat_minor": 5
}
